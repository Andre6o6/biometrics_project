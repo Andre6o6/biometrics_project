{
 "cells": [
  {
   "cell_type": "code",
   "execution_count": 1,
   "metadata": {},
   "outputs": [],
   "source": [
    "import numpy as np\n",
    "import random\n",
    "\n",
    "from matplotlib import pyplot as plt\n",
    "%matplotlib inline\n",
    "\n",
    "from Classifiers import *\n",
    "from utils import *"
   ]
  },
  {
   "cell_type": "code",
   "execution_count": 2,
   "metadata": {},
   "outputs": [],
   "source": [
    "train, labels, test = load_from_folders('data/att/')\n",
    "\n",
    "X_mean, X_std = train.mean(), train.std()\n",
    "train_norm = (train - X_mean)/X_std\n",
    "test_norm = (test - X_mean)/X_std\n",
    "\n",
    "X_mean2, X_std2 = train.mean(axis=0), train.std(axis=0)\n",
    "train_norm2 = (train - X_mean2)/X_std2\n",
    "test_norm2 = (test - X_mean2)/X_std2"
   ]
  },
  {
   "cell_type": "code",
   "execution_count": 3,
   "metadata": {},
   "outputs": [],
   "source": [
    "scale_clf = ScaleClassifier(scales=[4])       #norm2\n",
    "rp_clf = RandomPointsClassifier(n_points=660) #norm2\n",
    "dct_clf = DCTClassifier(size=5)               #norm2\n",
    "dft_clf = DFTClassifier(clipped=False)\n",
    "hist_clf = HistogramClassifier(size=7)\n",
    "grad_clf = GradientClassifier()"
   ]
  },
  {
   "cell_type": "code",
   "execution_count": 4,
   "metadata": {},
   "outputs": [],
   "source": [
    "def classify_collab(clfs, img_idx, weights=None, vote='soft', use_norm=None):   \n",
    "    if weights is None:\n",
    "        weights = [1 for x in clfs]\n",
    "    if use_norm is None:\n",
    "        use_norm = [0 for x in clfs]\n",
    "        \n",
    "    assert(len(clfs) == len(weights))\n",
    "    assert(len(clfs) == len(use_norm))\n",
    "        \n",
    "    all_dist = []\n",
    "    for i,clf in enumerate(clfs):\n",
    "        img = train[img_idx] if use_norm[i]==0 else train_norm2[img_idx]\n",
    "        distances = np.array(list(map(lambda img2: clf.Distance(img, img2),\n",
    "                                      test if use_norm[i]==0 else test_norm2)))\n",
    "        distances = weights[i] * distances / np.sum(distances)\n",
    "        all_dist.append(distances)\n",
    "        \n",
    "    if vote=='soft':\n",
    "        return np.mean(all_dist, axis=0).argmin()\n",
    "    else:\n",
    "        votes = np.argmin(all_dist, axis=1)\n",
    "        return np.bincount(votes).argmax()"
   ]
  },
  {
   "cell_type": "code",
   "execution_count": 5,
   "metadata": {},
   "outputs": [
    {
     "data": {
      "text/plain": [
       "0.9222222222222223"
      ]
     },
     "execution_count": 5,
     "metadata": {},
     "output_type": "execute_result"
    }
   ],
   "source": [
    "clfs = [scale_clf, rp_clf, dct_clf, dft_clf, hist_clf, grad_clf]\n",
    "\n",
    "pred = list(map(lambda i: classify_collab(clfs, i, use_norm=[1,1,1,0,0,0], vote='hard'), range(len(train))))\n",
    "acc = sum(np.array(pred)==np.array(labels))/len(train)\n",
    "acc"
   ]
  },
  {
   "cell_type": "code",
   "execution_count": null,
   "metadata": {},
   "outputs": [],
   "source": [
    "clfs = [scale_clf, rp_clf, dct_clf, dft_clf, hist_clf, grad_clf]\n",
    "use_norm=[1,1,1,0,0,0]\n",
    "n_classes = 10\n",
    "imgs_per_class = 9\n",
    "\n",
    "history = [0]\n",
    "for batch_size in range(1,10):\n",
    "\n",
    "    cur_train = []\n",
    "    cur_train_norm = []\n",
    "    cur_labels = []\n",
    "    for c in range(n_classes):\n",
    "        for i in range(imgs_per_class - batch_size + 1):\n",
    "            k = i + c*imgs_per_class\n",
    "            cur_train.append(train[k:k+batch_size])\n",
    "            cur_train_norm.append(train_norm2[k:k+batch_size])\n",
    "            cur_labels.append(labels[k])\n",
    "    cur_train = np.array(cur_train)\n",
    "    cur_train_norm = np.array(cur_train_norm)\n",
    "\n",
    "\n",
    "    all_pred = []\n",
    "    for i,clf in enumerate(clfs):\n",
    "        pred = []\n",
    "        for img_idx in range(len(cur_train)):\n",
    "            imgs = cur_train[img_idx] if use_norm[i]==0 else cur_train_norm[img_idx]\n",
    "\n",
    "            all_dist = []\n",
    "            for img in imgs:\n",
    "                distances = np.array(list(map(lambda img2: clf.Distance(img, img2),\n",
    "                                              test if use_norm[i]==0 else test_norm2)))\n",
    "                distances = distances / np.sum(distances)\n",
    "                all_dist.append(distances)\n",
    "\n",
    "            votes = np.argmin(all_dist, axis=1)\n",
    "            pred.append(np.bincount(votes).argmax())\n",
    "        all_pred.append(pred)\n",
    "\n",
    "    all_pred = np.array(all_pred).transpose()\n",
    "    final = []\n",
    "    for x in all_pred:\n",
    "        final.append(np.bincount(x).argmax())\n",
    "    acc = sum(np.array(final)==np.array(cur_labels))/len(cur_train)\n",
    "    history.append(acc)\n",
    "    \n",
    "x_points = [i*40 for i in range(10)]\n",
    "plt.plot(x_points, history)\n",
    "print(\"Зависимость от числа тестовых изображений\")"
   ]
  },
  {
   "cell_type": "code",
   "execution_count": 8,
   "metadata": {},
   "outputs": [
    {
     "name": "stdout",
     "output_type": "stream",
     "text": [
      "Зависимость от числа тестовых изображений\n"
     ]
    },
    {
     "data": {
      "image/png": "[encoded data removed]",
      "text/plain": [
       "<Figure size 432x288 with 1 Axes>"
      ]
     },
     "metadata": {
      "needs_background": "light"
     },
     "output_type": "display_data"
    }
   ],
   "source": [
    "plt.plot(x_points, history)\n",
    "plt.xlabel('Кол-во тестовых фото')\n",
    "plt.ylabel('Точность')\n",
    "print(\"Зависимость от числа тестовых изображений\")\n"
   ]
  },
  {
   "cell_type": "code",
   "execution_count": null,
   "metadata": {},
   "outputs": [],
   "source": []
  }
 ],
 "metadata": {
  "kernelspec": {
   "display_name": "Python 3",
   "language": "python",
   "name": "python3"
  },
  "language_info": {
   "codemirror_mode": {
    "name": "ipython",
    "version": 3
   },
   "file_extension": ".py",
   "mimetype": "text/x-python",
   "name": "python",
   "nbconvert_exporter": "python",
   "pygments_lexer": "ipython3",
   "version": "3.5.6"
  }
 },
 "nbformat": 4,
 "nbformat_minor": 2
}
